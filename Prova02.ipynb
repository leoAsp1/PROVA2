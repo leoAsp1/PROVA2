{
 "cells": [
  {
   "cell_type": "code",
   "execution_count": 9,
   "id": "43a2e3ad-78b9-49fd-b40d-a3f415745ab5",
   "metadata": {},
   "outputs": [],
   "source": [
    "import math\n",
    "consumo_diario = [50, 45, 55, 60, 48, 52, 47, 49, 53, 51, 50, 46, 54, 61, 49, 53, 48, 50, 52, 47, 56, 50, 55, 60, 48, 52, 47, 49, 53, 51]"
   ]
  },
  {
   "cell_type": "code",
   "execution_count": 23,
   "id": "9cfd61c2-0497-41d3-8175-2f9287e42b87",
   "metadata": {},
   "outputs": [],
   "source": [
    "def consumo(consumo_diario):\n",
    "    #soma e média do consumo\n",
    "    somaConsumo = sum(consumo_diario)\n",
    "    mediaConsumo = somaConsumo / len(consumo_diario)\n",
    "\n",
    "    return mediaConsumo"
   ]
  },
  {
   "cell_type": "code",
   "execution_count": 25,
   "id": "8942e0c1-073f-4970-bfec-2fc7a4f98de5",
   "metadata": {},
   "outputs": [
    {
     "name": "stdout",
     "output_type": "stream",
     "text": [
      "O consumo diário médio foi: 51.36666666666667\n"
     ]
    }
   ],
   "source": [
    "print(f\"O consumo diário médio foi: {consumo(consumo_diario)}\")"
   ]
  },
  {
   "cell_type": "code",
   "execution_count": null,
   "id": "2c79f468-b164-44a5-a7aa-c9805aa257e8",
   "metadata": {},
   "outputs": [],
   "source": []
  }
 ],
 "metadata": {
  "kernelspec": {
   "display_name": "Python [conda env:base] *",
   "language": "python",
   "name": "conda-base-py"
  },
  "language_info": {
   "codemirror_mode": {
    "name": "ipython",
    "version": 3
   },
   "file_extension": ".py",
   "mimetype": "text/x-python",
   "name": "python",
   "nbconvert_exporter": "python",
   "pygments_lexer": "ipython3",
   "version": "3.12.7"
  }
 },
 "nbformat": 4,
 "nbformat_minor": 5
}
